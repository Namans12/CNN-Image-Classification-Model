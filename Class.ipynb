{
 "cells": [
  {
   "cell_type": "code",
   "execution_count": 5,
   "metadata": {},
   "outputs": [
    {
     "name": "stdout",
     "output_type": "stream",
     "text": [
      "Number of classes: 3\n",
      "Classes: ['test', 'train', 'validation']\n"
     ]
    }
   ],
   "source": [
    "import os\n",
    "\n",
    "dataset_path = 'C:/Users/naman/Downloads/Dataset3'\n",
    "classes = os.listdir(dataset_path)\n",
    "num_classes = len(classes)\n",
    "\n",
    "print(\"Number of classes:\", num_classes)\n",
    "print(\"Classes:\", classes)"
   ]
  },
  {
   "cell_type": "code",
   "execution_count": 6,
   "metadata": {},
   "outputs": [],
   "source": [
    "import os\n",
    "import tensorflow as tf\n",
    "from tensorflow.keras import layers, models\n",
    "from tensorflow.keras.preprocessing.image import ImageDataGenerator"
   ]
  },
  {
   "cell_type": "code",
   "execution_count": 7,
   "metadata": {},
   "outputs": [],
   "source": [
    "# Define image dimensions and batch size\n",
    "img_width, img_height = 64, 64\n",
    "batch_size = 32\n",
    "num_classes = 3 # Add the actual number of classes in your dataset"
   ]
  },
  {
   "cell_type": "code",
   "execution_count": 8,
   "metadata": {},
   "outputs": [
    {
     "name": "stdout",
     "output_type": "stream",
     "text": [
      "Found 42749 images belonging to 14 classes.\n",
      "Number of classes: 14\n",
      "Classes: ['add', 'divide', 'eight', 'five', 'four', 'multiply', 'nine', 'one', 'seven', 'six', 'subtract', 'three', 'two', 'zero']\n"
     ]
    }
   ],
   "source": [
    "train_datagen = ImageDataGenerator(rescale=1./255)\n",
    "\n",
    "train_generator = train_datagen.flow_from_directory(\n",
    "    'C:/Users/naman/Downloads/Dataset3/train',\n",
    "    target_size=(img_width, img_height),\n",
    "    batch_size=batch_size,\n",
    "    class_mode='categorical')  # Change to 'binary' for binary classification\n",
    "\n",
    "num_classes = len(train_generator.class_indices)\n",
    "classes = list(train_generator.class_indices.keys())\n",
    "\n",
    "print(\"Number of classes:\", num_classes)\n",
    "print(\"Classes:\", classes)"
   ]
  },
  {
   "cell_type": "markdown",
   "metadata": {},
   "source": [
    "for division sign"
   ]
  },
  {
   "cell_type": "code",
   "execution_count": null,
   "metadata": {},
   "outputs": [],
   "source": [
    "def predict_image_url(image_url):\n",
    "    # Download the image\n",
    "    response = requests.get(image_url)\n",
    "    \n",
    "    # Convert image to PIL format\n",
    "    img = Image.open(io.BytesIO(response.content))\n",
    "    \n",
    "    # Convert image to RGB (3 channels)\n",
    "    img = img.convert('RGB')\n",
    "\n",
    "    # Resize the image to match your model's input size (64x64 pixels)\n",
    "    img = img.resize((64, 64))\n",
    "\n",
    "    # Convert image to array and preprocess\n",
    "    img_array = image.img_to_array(img)\n",
    "    img_array = np.expand_dims(img_array, axis=0)\n",
    "    img_array = preprocess_input(img_array)\n",
    "\n",
    "    # Make predictions\n",
    "    predictions = model.predict(img_array)\n",
    "\n",
    "    # Decode predictions based on your custom class labels\n",
    "    class_labels = ['class1', 'class2', ..., 'class14']\n",
    "    decoded_predictions = dict(zip(class_labels, predictions.flatten()))\n",
    "\n",
    "    # Print the predictions\n",
    "    for label, score in decoded_predictions.items():\n",
    "        print(f'{label}: {score}')\n",
    "\n",
    "# Example usage with the provided image URL\n",
    "image_url = 'https://wumbo.net/symbols/division/feature.png'\n",
    "predict_image_url(image_url)"
   ]
  },
  {
   "cell_type": "markdown",
   "metadata": {},
   "source": [
    "For prediction"
   ]
  },
  {
   "cell_type": "code",
   "execution_count": null,
   "metadata": {},
   "outputs": [],
   "source": [
    "import requests\n",
    "from PIL import Image\n",
    "from io import BytesIO\n",
    "\n",
    "image_url = 'https://wumbo.net/symbols/plus/feature.png'\n",
    "response = requests.get(image_url)\n",
    "\n",
    "img.show()"
   ]
  },
  {
   "cell_type": "code",
   "execution_count": null,
   "metadata": {},
   "outputs": [],
   "source": [
    "def predict_image_url(image_url):\n",
    "    response = requests.get(image_url)\n",
    "    \n",
    "    img = Image.open(io.BytesIO(response.content))\n",
    "    \n",
    "    img = img.convert('RGB')\n",
    "\n",
    "    img = img.resize((64, 64))\n",
    "\n",
    "    img_array = image.img_to_array(img)\n",
    "    img_array = np.expand_dims(img_array, axis=0)\n",
    "    img_array = preprocess_input(img_array)\n",
    "\n",
    "    predictions = model.predict(img_array)\n",
    "    \n",
    "    class_labels = ['class1', 'class2', ..., 'class14']\n",
    "    decoded_predictions = dict(zip(class_labels, predictions.flatten()))\n",
    "\n",
    "    for label, score in decoded_predictions.items():\n",
    "        print(f'{label}: {score}')\n",
    "\n",
    "image_url = 'https://wumbo.net/symbols/plus/feature.png'\n",
    "predict_image_url(image_url)"
   ]
  },
  {
   "cell_type": "markdown",
   "metadata": {},
   "source": [
    "Predcition - Local Storage"
   ]
  },
  {
   "cell_type": "code",
   "execution_count": null,
   "metadata": {},
   "outputs": [],
   "source": [
    "from keras.models import load_model\n",
    "from keras.preprocessing import image\n",
    "from keras.applications.vgg16 import preprocess_input\n",
    "import numpy as np\n",
    "from PIL import Image\n",
    "\n",
    "# Load the trained model\n",
    "model_path = 'C:/Users/naman/Desktop/6th Sem/DL/math_symbols_classifier.h5'\n",
    "model = load_model(model_path)\n",
    "\n",
    "# Load and preprocess the image\n",
    "img_path = 'C:/Users/naman/Desktop/zero_832.png'\n",
    "img = image.load_img(img_path, target_size=(64, 64))\n",
    "img_array = image.img_to_array(img)\n",
    "img_array = np.expand_dims(img_array, axis=0)\n",
    "img_array = preprocess_input(img_array)\n",
    "\n",
    "# Print debug information\n",
    "print(\"Image shape:\", img_array.shape)\n",
    "\n",
    "# Make predictions\n",
    "predictions = model.predict(img_array)\n",
    "\n",
    "# Print debug information\n",
    "print(\"Predictions shape:\", predictions.shape)\n",
    "print(\"Raw predictions:\", predictions)\n",
    "\n",
    "# Decode predictions based on your custom class labels\n",
    "class_labels = ['class1', 'class2', ..., 'class14']\n",
    "decoded_predictions = dict(zip(class_labels, predictions.flatten()))\n",
    "\n",
    "# Print the predictions\n",
    "for label, score in decoded_predictions.items():\n",
    "    print(f'{label}: {score}')\n"
   ]
  },
  {
   "cell_type": "code",
   "execution_count": null,
   "metadata": {},
   "outputs": [],
   "source": [
    "from PIL import Image\n",
    "import numpy as np\n",
    "\n",
    "# Load the drawn image\n",
    "img_path = 'C:/Users/naman/Desktop/Divide.png'\n",
    "img = Image.open(img_path)\n",
    "\n",
    "# Resize the image to match the model's input size\n",
    "img = img.resize((64, 64))\n",
    "\n",
    "# Convert image to array\n",
    "img_array = np.array(img)\n",
    "\n",
    "img = img.convert('RGB')\n",
    "\n",
    "img = img.convert('RGB')"
   ]
  },
  {
   "cell_type": "code",
   "execution_count": null,
   "metadata": {},
   "outputs": [],
   "source": [
    "from PIL import Image\n",
    "import numpy as np\n",
    "from keras.models import load_model\n",
    "from keras.applications.vgg16 import preprocess_input\n",
    "\n",
    "# Load the drawn image\n",
    "img_path = 'C:/Users/naman/Desktop/Divide.png'\n",
    "img = Image.open(img_path)\n",
    "\n",
    "# Convert image to RGB (3 channels)\n",
    "img = img.convert('RGB')\n",
    "\n",
    "# Resize the image to match the model's input size\n",
    "img = img.resize((64, 64))\n",
    "\n",
    "# Convert image to array\n",
    "img_array = np.array(img)\n",
    "\n",
    "# Ensure correct shape and expand dimensions\n",
    "img_array = np.expand_dims(img_array, axis=0)\n",
    "\n",
    "# Preprocess the input image\n",
    "img_array = preprocess_input(img_array)\n",
    "\n",
    "# Load the trained model\n",
    "model_path = 'C:/Users/naman/Desktop/6th Sem/DL/math_symbols_classifier.h5'\n",
    "model = load_model(model_path)\n",
    "\n",
    "# Make predictions\n",
    "predictions = model.predict(img_array)\n",
    "\n",
    "# Decode predictions based on your custom class labels\n",
    "class_labels = ['class1', 'class2', ..., 'class14']\n",
    "decoded_predictions = dict(zip(class_labels, predictions.flatten()))\n",
    "\n",
    "# Print the predictions\n",
    "for label, score in decoded_predictions.items():\n",
    "    print(f'{label}: {score}')"
   ]
  }
 ],
 "metadata": {
  "kernelspec": {
   "display_name": "Python 3",
   "language": "python",
   "name": "python3"
  },
  "language_info": {
   "codemirror_mode": {
    "name": "ipython",
    "version": 3
   },
   "file_extension": ".py",
   "mimetype": "text/x-python",
   "name": "python",
   "nbconvert_exporter": "python",
   "pygments_lexer": "ipython3",
   "version": "3.10.5"
  }
 },
 "nbformat": 4,
 "nbformat_minor": 2
}
